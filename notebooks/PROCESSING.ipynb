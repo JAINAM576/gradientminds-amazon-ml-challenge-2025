{
 "cells": [
  {
   "cell_type": "code",
   "execution_count": 2,
   "id": "b7f14893",
   "metadata": {},
   "outputs": [],
   "source": [
    "import pandas as pd"
   ]
  },
  {
   "cell_type": "code",
   "execution_count": 3,
   "id": "b1f9cc6e",
   "metadata": {},
   "outputs": [],
   "source": [
    "df=pd.read_csv(r\"D:\\AMAZON-ML-CHALLENGE-2025\\data_amazon_ml_2025\\student_resource\\dataset\\train.csv\")"
   ]
  },
  {
   "cell_type": "code",
   "execution_count": 4,
   "id": "5d12ef9c",
   "metadata": {},
   "outputs": [],
   "source": [
    "units=set()\n",
    "def processed_value(x):\n",
    "    points=x.split(\"\\n\")\n",
    "    if len(points):\n",
    "        for point in points:\n",
    "            val=point.split(\":\")\n",
    "            print(val)\n",
    "            if   len(val)>=2 and val[0].lower()==\"unit\":\n",
    "                    units.add(val[1])"
   ]
  },
  {
   "cell_type": "code",
   "execution_count": null,
   "id": "0672f8d3",
   "metadata": {},
   "outputs": [
    {
     "data": {
      "text/plain": [
       "'count'"
      ]
     },
     "execution_count": 23,
     "metadata": {},
     "output_type": "execute_result"
    }
   ],
   "source": [
    "\" count\"."
   ]
  },
  {
   "cell_type": "code",
   "execution_count": 5,
   "id": "46f1530f",
   "metadata": {},
   "outputs": [],
   "source": [
    "count_check=[]\n",
    "count_check_pack=[]\n",
    "count_check_pack_try=[]\n",
    "\n",
    "def processed_value_count(x):\n",
    "    points=x.split(\"\\n\")\n",
    "    idx=0\n",
    "    if len(points):\n",
    "        for point in points:\n",
    "               val=point.split(\":\")\n",
    "               if   len(val)>=2 and val[0].lower()==\"unit\":\n",
    "               \n",
    "                    if((val[1].lower().strip())==\"units\"):\n",
    "                         val1=points[0].split(\":\")\n",
    "                         print(points,\"jjl\")\n",
    "                         count_check_pack.append(val[1])\n",
    "\n",
    "                         if \"per case\" in val1[1].lower():\n",
    "                              count_check.append(val1[1])\n",
    "                         if \"pack of\" in val1[1].lower():\n",
    "                              count_check.append(val1[1])\n",
    "               idx+=1\n",
    "\n",
    "                         "
   ]
  },
  {
   "cell_type": "code",
   "execution_count": 6,
   "id": "88974283",
   "metadata": {},
   "outputs": [
    {
     "name": "stdout",
     "output_type": "stream",
     "text": [
      "['Item Name: Dole Pineapple Slices in 100% Pineapple Juice 20 oz (Pack of 12)', 'Bullet Point 1: All natural fruit. no sugar added. rich in vitamin c.', 'Bullet Point 2: Kosher.', 'Bullet Point 3: Dole. make every day shine. satisfaction guaranteed.', 'Bullet Point 4: In 100% pineapple juice.', 'Product Description: Dole Pineapple Slices All Natural Fruit No Sugar Added Rich in Vitamin C', 'Value: 12.0', 'Unit: units', ''] jjl\n"
     ]
    }
   ],
   "source": [
    "for i in df[\"catalog_content\"]:\n",
    "    processed_value_count(i)"
   ]
  },
  {
   "cell_type": "code",
   "execution_count": 7,
   "id": "d1cc2f0e",
   "metadata": {},
   "outputs": [
    {
     "data": {
      "text/plain": [
       "1"
      ]
     },
     "execution_count": 7,
     "metadata": {},
     "output_type": "execute_result"
    }
   ],
   "source": [
    "len(count_check)"
   ]
  },
  {
   "cell_type": "code",
   "execution_count": 8,
   "id": "463515c9",
   "metadata": {},
   "outputs": [
    {
     "data": {
      "text/plain": [
       "1"
      ]
     },
     "execution_count": 8,
     "metadata": {},
     "output_type": "execute_result"
    }
   ],
   "source": [
    "len(count_check_pack)"
   ]
  },
  {
   "cell_type": "code",
   "execution_count": 9,
   "id": "9fb86f11",
   "metadata": {},
   "outputs": [
    {
     "data": {
      "text/plain": [
       "set()"
      ]
     },
     "execution_count": 9,
     "metadata": {},
     "output_type": "execute_result"
    }
   ],
   "source": [
    "units"
   ]
  },
  {
   "cell_type": "markdown",
   "id": "f18f670e",
   "metadata": {},
   "source": [
    "## NORMALIZING UNIT VALUES"
   ]
  },
  {
   "cell_type": "code",
   "execution_count": 5,
   "id": "15fb2b2f",
   "metadata": {},
   "outputs": [],
   "source": [
    "import re\n",
    "\n",
    "def normalize_unit(unit):\n",
    "    unit = str(unit).strip().lower()\n",
    "\n",
    "    \n",
    "    unit = re.sub(r\"\\d+\", \"\", unit)        \n",
    "    unit = re.sub(r\"[\\.\\(\\)\\-_/]\", \" \", unit)  \n",
    "    unit = re.sub(r\"\\s+\", \" \", unit).strip()   \n",
    "\n",
    "    normalization_map = {\n",
    "        \"gram\": [\"g\", \"gram\", \"grams\", \"gm\", \"gr\", \"gramsgm\", \"gramm\"],\n",
    "        \"kilogram\": [\"kg\", \"kgs\", \"kilogram\", \"kilograms\"],\n",
    "        \"milligram\": [\"mg\", \"milligram\", \"milligrams\"],\n",
    "        \"pound\": [\"lb\", \"lbs\", \"pound\", \"pounds\"],\n",
    "        \"ounce\": [\"oz\", \"ounce\", \"ounces\", \"fl oz\", \"fl ounce\", \"fl. oz\", \"fluid ounce\", \"fluid ounces\", \"72 oz\"],\n",
    "        \"liter\": [\"l\", \"litre\", \"liter\", \"liters\", \"litres\", \"ltr\"],\n",
    "        \"milliliter\": [\"ml\", \"millilitre\", \"milliliters\", \"mililitro\"],\n",
    "        \"inch\": [\"in\", \"inch\", \"inches\"],\n",
    "        \"foot\": [\"ft\", \"feet\", \"foot\"],\n",
    "        \"square foot\": [\"sq ft\", \"sqft\"],\n",
    "        \"count\": [\"count\", \"ct\", \"each\", \"piece\", \"unit\", \"units\", \"unità\"],\n",
    "        \"pack\": [\"pack\", \"packs\", \"bag\", \"bottle\", \"bottles\", \"pouch\", \"box\", \"box12\", \"carton\", \"bucket\", \"per package\", \"paper cupcake liners\", \"ziplock bags\"],\n",
    "        \"can\": [\"can\", \"cans\"],\n",
    "        \"jar\": [\"jar\", \"jars\"],\n",
    "        \"kcups\": [\"kcup\", \"kcups\", \"k-cups\"],\n",
    "        \"tea bags\": [\"tea bags\", \"teabags\"],\n",
    "        \"unknown\": [\"\", \"none\"],\n",
    "        \"productweight\":[\"productweight\",\"product_weight\"]\n",
    "    }\n",
    "\n",
    "    for canonical, variants in normalization_map.items():\n",
    "        if unit in variants:\n",
    "            return canonical\n",
    "\n",
    "    for canonical, variants in normalization_map.items():\n",
    "        \n",
    "        for v in variants:\n",
    "            if v in unit:\n",
    "                return canonical\n",
    "\n",
    "    return unit  \n"
   ]
  },
  {
   "cell_type": "code",
   "execution_count": 6,
   "id": "2e836122",
   "metadata": {},
   "outputs": [],
   "source": [
    "import re\n",
    "\n",
    "def normalize_units_in_text(text):\n",
    "    text = str(text).lower().strip()\n",
    "\n",
    "    normalization_map = {\n",
    "        \"gram\": [\"g\", \"gram\", \"grams\", \"gm\", \"gr\", \"gramm\"],\n",
    "        \"kilogram\": [\"kg\", \"kgs\", \"kilogram\", \"kilograms\"],\n",
    "        \"milligram\": [\"mg\", \"milligram\", \"milligrams\"],\n",
    "        \"pound\": [\"lb\", \"lbs\", \"pound\", \"pounds\"],\n",
    "        \"ounce\": [\"oz\", \"fl oz\", \"fl. oz\", \"fluid ounce\", \"fluid ounces\"],\n",
    "        \"liter\": [\"l\", \"litre\", \"liter\", \"liters\", \"litres\", \"ltr\"],\n",
    "        \"milliliter\": [\"ml\", \"millilitre\", \"milliliters\", \"mililitro\"],\n",
    "        \"inch\": [\"in\", \"inch\", \"inches\"],\n",
    "        \"foot\": [\"ft\", \"feet\", \"foot\"],\n",
    "        \"square foot\": [\"sq ft\", \"sqft\"],\n",
    "        \"count\": [\"count\", \"ct\", \"each\", \"piece\", \"unit\", \"units\", \"unità\"],\n",
    "        \"pack\": [\"pack\", \"packs\", \"bag\", \"bottle\", \"bottles\", \"pouch\", \"box\", \"carton\", \"bucket\", \"package\"],\n",
    "        \"can\": [\"can\", \"cans\"],\n",
    "        \"jar\": [\"jar\", \"jars\"],\n",
    "        \"kcups\": [\"kcup\", \"kcups\", \"k-cups\"],\n",
    "        \"tea bags\": [\"tea bags\", \"teabags\"],\n",
    "    }\n",
    "\n",
    "    for canonical, variants in normalization_map.items():\n",
    "        for v in variants:\n",
    "            pattern = r\"(?<=\\d)\\s*(\" + re.escape(v) + r\")\\b|(?<!\\w)(\" + re.escape(v) + r\")\\b\"\n",
    "            text = re.sub(pattern, f\" {canonical}\", text)\n",
    "\n",
    "    text = re.sub(r\"\\s+\", \" \", text).strip()\n",
    "    return text\n"
   ]
  },
  {
   "cell_type": "code",
   "execution_count": 7,
   "id": "4fa6811c",
   "metadata": {},
   "outputs": [
    {
     "data": {
      "text/plain": [
       "'count'"
      ]
     },
     "execution_count": 7,
     "metadata": {},
     "output_type": "execute_result"
    }
   ],
   "source": [
    "normalize_unit(\"units\")"
   ]
  },
  {
   "cell_type": "code",
   "execution_count": 8,
   "id": "eccb4ecf",
   "metadata": {},
   "outputs": [],
   "source": [
    "processed_df=df.copy()"
   ]
  },
  {
   "cell_type": "code",
   "execution_count": 9,
   "id": "b3e33f71",
   "metadata": {},
   "outputs": [
    {
     "data": {
      "text/html": [
       "<div>\n",
       "<style scoped>\n",
       "    .dataframe tbody tr th:only-of-type {\n",
       "        vertical-align: middle;\n",
       "    }\n",
       "\n",
       "    .dataframe tbody tr th {\n",
       "        vertical-align: top;\n",
       "    }\n",
       "\n",
       "    .dataframe thead th {\n",
       "        text-align: right;\n",
       "    }\n",
       "</style>\n",
       "<table border=\"1\" class=\"dataframe\">\n",
       "  <thead>\n",
       "    <tr style=\"text-align: right;\">\n",
       "      <th></th>\n",
       "      <th>sample_id</th>\n",
       "      <th>catalog_content</th>\n",
       "      <th>image_link</th>\n",
       "      <th>price</th>\n",
       "    </tr>\n",
       "  </thead>\n",
       "  <tbody>\n",
       "    <tr>\n",
       "      <th>0</th>\n",
       "      <td>33127</td>\n",
       "      <td>Item Name: La Victoria Green Taco Sauce Mild, ...</td>\n",
       "      <td>https://m.media-amazon.com/images/I/51mo8htwTH...</td>\n",
       "      <td>4.89</td>\n",
       "    </tr>\n",
       "    <tr>\n",
       "      <th>1</th>\n",
       "      <td>198967</td>\n",
       "      <td>Item Name: Salerno Cookies, The Original Butte...</td>\n",
       "      <td>https://m.media-amazon.com/images/I/71YtriIHAA...</td>\n",
       "      <td>13.12</td>\n",
       "    </tr>\n",
       "    <tr>\n",
       "      <th>2</th>\n",
       "      <td>261251</td>\n",
       "      <td>Item Name: Bear Creek Hearty Soup Bowl, Creamy...</td>\n",
       "      <td>https://m.media-amazon.com/images/I/51+PFEe-w-...</td>\n",
       "      <td>1.97</td>\n",
       "    </tr>\n",
       "    <tr>\n",
       "      <th>3</th>\n",
       "      <td>55858</td>\n",
       "      <td>Item Name: Judee’s Blue Cheese Powder 11.25 oz...</td>\n",
       "      <td>https://m.media-amazon.com/images/I/41mu0HAToD...</td>\n",
       "      <td>30.34</td>\n",
       "    </tr>\n",
       "    <tr>\n",
       "      <th>4</th>\n",
       "      <td>292686</td>\n",
       "      <td>Item Name: kedem Sherry Cooking Wine, 12.7 Oun...</td>\n",
       "      <td>https://m.media-amazon.com/images/I/41sA037+Qv...</td>\n",
       "      <td>66.49</td>\n",
       "    </tr>\n",
       "  </tbody>\n",
       "</table>\n",
       "</div>"
      ],
      "text/plain": [
       "   sample_id                                    catalog_content  \\\n",
       "0      33127  Item Name: La Victoria Green Taco Sauce Mild, ...   \n",
       "1     198967  Item Name: Salerno Cookies, The Original Butte...   \n",
       "2     261251  Item Name: Bear Creek Hearty Soup Bowl, Creamy...   \n",
       "3      55858  Item Name: Judee’s Blue Cheese Powder 11.25 oz...   \n",
       "4     292686  Item Name: kedem Sherry Cooking Wine, 12.7 Oun...   \n",
       "\n",
       "                                          image_link  price  \n",
       "0  https://m.media-amazon.com/images/I/51mo8htwTH...   4.89  \n",
       "1  https://m.media-amazon.com/images/I/71YtriIHAA...  13.12  \n",
       "2  https://m.media-amazon.com/images/I/51+PFEe-w-...   1.97  \n",
       "3  https://m.media-amazon.com/images/I/41mu0HAToD...  30.34  \n",
       "4  https://m.media-amazon.com/images/I/41sA037+Qv...  66.49  "
      ]
     },
     "execution_count": 9,
     "metadata": {},
     "output_type": "execute_result"
    }
   ],
   "source": [
    "processed_df.head()"
   ]
  },
  {
   "cell_type": "code",
   "execution_count": 10,
   "id": "b2755ce2",
   "metadata": {},
   "outputs": [],
   "source": [
    "## FROM EACH CATALOG CONTENT EXTRACT UNITS AND THEN CONVERT TO THIER CANNONICAL FORM AND CREATE UNIT NAME COLUMN\n",
    "normalizedUnits=[]\n",
    "for row in processed_df[\"catalog_content\"]:\n",
    "    items=row.split(\"\\n\")\n",
    "    for item in items:\n",
    "        dic=item.split(\":\")\n",
    "        if len(dic)>=2:\n",
    "            key=dic[0]\n",
    "            value=dic[1]\n",
    "          \n",
    "            if key.lower().strip()==\"unit\":\n",
    "\n",
    "                normalized=normalize_unit(value)\n",
    "              \n",
    "                normalizedUnits.append(normalized)\n",
    "\n"
   ]
  },
  {
   "cell_type": "code",
   "execution_count": 11,
   "id": "a278e43d",
   "metadata": {},
   "outputs": [],
   "source": [
    "processed_df[\"unit\"]=normalizedUnits"
   ]
  },
  {
   "cell_type": "code",
   "execution_count": 12,
   "id": "f138375d",
   "metadata": {},
   "outputs": [
    {
     "data": {
      "text/plain": [
       "unit\n",
       "ounce          55367\n",
       "count          18289\n",
       "unknown          950\n",
       "pound            240\n",
       "pack              54\n",
       "gram              53\n",
       "liter             12\n",
       "milliliter        12\n",
       "can                6\n",
       "kilogram           6\n",
       "jar                4\n",
       "tea bags           2\n",
       "square foot        2\n",
       "foot               2\n",
       "inch               1\n",
       "Name: count, dtype: int64"
      ]
     },
     "execution_count": 12,
     "metadata": {},
     "output_type": "execute_result"
    }
   ],
   "source": [
    "processed_df[\"unit\"].value_counts()"
   ]
  },
  {
   "cell_type": "code",
   "execution_count": 13,
   "id": "bde210c0",
   "metadata": {},
   "outputs": [
    {
     "data": {
      "text/plain": [
       "75000"
      ]
     },
     "execution_count": 13,
     "metadata": {},
     "output_type": "execute_result"
    }
   ],
   "source": [
    "processed_df.shape[0]"
   ]
  },
  {
   "cell_type": "code",
   "execution_count": 14,
   "id": "7829c884",
   "metadata": {},
   "outputs": [],
   "source": [
    "## FROM EACH CATALOG CONTENT NORMALIZED UNIT IN ITEM NAME STRING\n",
    "normalizedUnitsItemText=[]\n",
    "for row in processed_df[\"catalog_content\"]:\n",
    "    items=row.split(\"\\n\")\n",
    "    dic=items[0].split(\":\")\n",
    "    if len(dic)>=2:\n",
    "        key=dic[0]\n",
    "        value=dic[1]\n",
    "    \n",
    "        normalized=normalize_units_in_text(value)\n",
    "        \n",
    "        normalizedUnitsItemText.append(normalized)\n",
    "\n"
   ]
  },
  {
   "cell_type": "code",
   "execution_count": 19,
   "id": "e65458d3",
   "metadata": {},
   "outputs": [],
   "source": [
    "processed_df[\"itemName\"]=normalizedUnitsItemText"
   ]
  },
  {
   "cell_type": "code",
   "execution_count": 22,
   "id": "969a3aaa",
   "metadata": {},
   "outputs": [
    {
     "data": {
      "text/html": [
       "<div>\n",
       "<style scoped>\n",
       "    .dataframe tbody tr th:only-of-type {\n",
       "        vertical-align: middle;\n",
       "    }\n",
       "\n",
       "    .dataframe tbody tr th {\n",
       "        vertical-align: top;\n",
       "    }\n",
       "\n",
       "    .dataframe thead th {\n",
       "        text-align: right;\n",
       "    }\n",
       "</style>\n",
       "<table border=\"1\" class=\"dataframe\">\n",
       "  <thead>\n",
       "    <tr style=\"text-align: right;\">\n",
       "      <th></th>\n",
       "      <th>catalog_content</th>\n",
       "      <th>image_link</th>\n",
       "      <th>price</th>\n",
       "      <th>unit</th>\n",
       "      <th>itemName</th>\n",
       "    </tr>\n",
       "    <tr>\n",
       "      <th>sample_id</th>\n",
       "      <th></th>\n",
       "      <th></th>\n",
       "      <th></th>\n",
       "      <th></th>\n",
       "      <th></th>\n",
       "    </tr>\n",
       "  </thead>\n",
       "  <tbody>\n",
       "    <tr>\n",
       "      <th>33127</th>\n",
       "      <td>Item Name: La Victoria Green Taco Sauce Mild, ...</td>\n",
       "      <td>https://m.media-amazon.com/images/I/51mo8htwTH...</td>\n",
       "      <td>4.89</td>\n",
       "      <td>ounce</td>\n",
       "      <td>la victoria green taco sauce mild, 12 ounce ( ...</td>\n",
       "    </tr>\n",
       "    <tr>\n",
       "      <th>198967</th>\n",
       "      <td>Item Name: Salerno Cookies, The Original Butte...</td>\n",
       "      <td>https://m.media-amazon.com/images/I/71YtriIHAA...</td>\n",
       "      <td>13.12</td>\n",
       "      <td>ounce</td>\n",
       "      <td>salerno cookies, the original butter cookies, ...</td>\n",
       "    </tr>\n",
       "    <tr>\n",
       "      <th>261251</th>\n",
       "      <td>Item Name: Bear Creek Hearty Soup Bowl, Creamy...</td>\n",
       "      <td>https://m.media-amazon.com/images/I/51+PFEe-w-...</td>\n",
       "      <td>1.97</td>\n",
       "      <td>ounce</td>\n",
       "      <td>bear creek hearty soup bowl, creamy chicken wi...</td>\n",
       "    </tr>\n",
       "    <tr>\n",
       "      <th>55858</th>\n",
       "      <td>Item Name: Judee’s Blue Cheese Powder 11.25 oz...</td>\n",
       "      <td>https://m.media-amazon.com/images/I/41mu0HAToD...</td>\n",
       "      <td>30.34</td>\n",
       "      <td>ounce</td>\n",
       "      <td>judee’s blue cheese powder 11.25 ounce - glute...</td>\n",
       "    </tr>\n",
       "    <tr>\n",
       "      <th>292686</th>\n",
       "      <td>Item Name: kedem Sherry Cooking Wine, 12.7 Oun...</td>\n",
       "      <td>https://m.media-amazon.com/images/I/41sA037+Qv...</td>\n",
       "      <td>66.49</td>\n",
       "      <td>count</td>\n",
       "      <td>kedem sherry cooking wine, 12.7 ounce - 12 per...</td>\n",
       "    </tr>\n",
       "  </tbody>\n",
       "</table>\n",
       "</div>"
      ],
      "text/plain": [
       "                                             catalog_content  \\\n",
       "sample_id                                                      \n",
       "33127      Item Name: La Victoria Green Taco Sauce Mild, ...   \n",
       "198967     Item Name: Salerno Cookies, The Original Butte...   \n",
       "261251     Item Name: Bear Creek Hearty Soup Bowl, Creamy...   \n",
       "55858      Item Name: Judee’s Blue Cheese Powder 11.25 oz...   \n",
       "292686     Item Name: kedem Sherry Cooking Wine, 12.7 Oun...   \n",
       "\n",
       "                                                  image_link  price   unit  \\\n",
       "sample_id                                                                    \n",
       "33127      https://m.media-amazon.com/images/I/51mo8htwTH...   4.89  ounce   \n",
       "198967     https://m.media-amazon.com/images/I/71YtriIHAA...  13.12  ounce   \n",
       "261251     https://m.media-amazon.com/images/I/51+PFEe-w-...   1.97  ounce   \n",
       "55858      https://m.media-amazon.com/images/I/41mu0HAToD...  30.34  ounce   \n",
       "292686     https://m.media-amazon.com/images/I/41sA037+Qv...  66.49  count   \n",
       "\n",
       "                                                    itemName  \n",
       "sample_id                                                     \n",
       "33127      la victoria green taco sauce mild, 12 ounce ( ...  \n",
       "198967     salerno cookies, the original butter cookies, ...  \n",
       "261251     bear creek hearty soup bowl, creamy chicken wi...  \n",
       "55858      judee’s blue cheese powder 11.25 ounce - glute...  \n",
       "292686     kedem sherry cooking wine, 12.7 ounce - 12 per...  "
      ]
     },
     "execution_count": 22,
     "metadata": {},
     "output_type": "execute_result"
    }
   ],
   "source": [
    "processed_df.head()"
   ]
  },
  {
   "cell_type": "code",
   "execution_count": 20,
   "id": "0c7286c3",
   "metadata": {},
   "outputs": [
    {
     "ename": "KeyError",
     "evalue": "\"None of ['sample_id'] are in the columns\"",
     "output_type": "error",
     "traceback": [
      "\u001b[1;31m---------------------------------------------------------------------------\u001b[0m",
      "\u001b[1;31mKeyError\u001b[0m                                  Traceback (most recent call last)",
      "\u001b[1;32m~\\AppData\\Local\\Temp\\ipykernel_2204\\3832892906.py\u001b[0m in \u001b[0;36m?\u001b[1;34m()\u001b[0m\n\u001b[1;32m----> 1\u001b[1;33m \u001b[0mprocessed_df\u001b[0m\u001b[1;33m=\u001b[0m\u001b[0mprocessed_df\u001b[0m\u001b[1;33m.\u001b[0m\u001b[0mset_index\u001b[0m\u001b[1;33m(\u001b[0m\u001b[1;34m\"sample_id\"\u001b[0m\u001b[1;33m)\u001b[0m\u001b[1;33m\u001b[0m\u001b[1;33m\u001b[0m\u001b[0m\n\u001b[0m",
      "\u001b[1;32mc:\\Users\\HP\\anaconda3\\envs\\medibot\\lib\\site-packages\\pandas\\core\\frame.py\u001b[0m in \u001b[0;36m?\u001b[1;34m(self, keys, drop, append, inplace, verify_integrity)\u001b[0m\n\u001b[0;32m   6140\u001b[0m                     \u001b[1;32mif\u001b[0m \u001b[1;32mnot\u001b[0m \u001b[0mfound\u001b[0m\u001b[1;33m:\u001b[0m\u001b[1;33m\u001b[0m\u001b[1;33m\u001b[0m\u001b[0m\n\u001b[0;32m   6141\u001b[0m                         \u001b[0mmissing\u001b[0m\u001b[1;33m.\u001b[0m\u001b[0mappend\u001b[0m\u001b[1;33m(\u001b[0m\u001b[0mcol\u001b[0m\u001b[1;33m)\u001b[0m\u001b[1;33m\u001b[0m\u001b[1;33m\u001b[0m\u001b[0m\n\u001b[0;32m   6142\u001b[0m \u001b[1;33m\u001b[0m\u001b[0m\n\u001b[0;32m   6143\u001b[0m         \u001b[1;32mif\u001b[0m \u001b[0mmissing\u001b[0m\u001b[1;33m:\u001b[0m\u001b[1;33m\u001b[0m\u001b[1;33m\u001b[0m\u001b[0m\n\u001b[1;32m-> 6144\u001b[1;33m             \u001b[1;32mraise\u001b[0m \u001b[0mKeyError\u001b[0m\u001b[1;33m(\u001b[0m\u001b[1;34mf\"None of {missing} are in the columns\"\u001b[0m\u001b[1;33m)\u001b[0m\u001b[1;33m\u001b[0m\u001b[1;33m\u001b[0m\u001b[0m\n\u001b[0m\u001b[0;32m   6145\u001b[0m \u001b[1;33m\u001b[0m\u001b[0m\n\u001b[0;32m   6146\u001b[0m         \u001b[1;32mif\u001b[0m \u001b[0minplace\u001b[0m\u001b[1;33m:\u001b[0m\u001b[1;33m\u001b[0m\u001b[1;33m\u001b[0m\u001b[0m\n\u001b[0;32m   6147\u001b[0m             \u001b[0mframe\u001b[0m \u001b[1;33m=\u001b[0m \u001b[0mself\u001b[0m\u001b[1;33m\u001b[0m\u001b[1;33m\u001b[0m\u001b[0m\n",
      "\u001b[1;31mKeyError\u001b[0m: \"None of ['sample_id'] are in the columns\""
     ]
    }
   ],
   "source": [
    "processed_df=processed_df.set_index(\"sample_id\")"
   ]
  },
  {
   "cell_type": "code",
   "execution_count": 21,
   "id": "b349db2e",
   "metadata": {},
   "outputs": [
    {
     "data": {
      "text/plain": [
       "catalog_content    Item Name: La Victoria Green Taco Sauce Mild, ...\n",
       "image_link         https://m.media-amazon.com/images/I/51mo8htwTH...\n",
       "price                                                           4.89\n",
       "unit                                                           ounce\n",
       "itemName           la victoria green taco sauce mild, 12 ounce ( ...\n",
       "Name: 33127, dtype: object"
      ]
     },
     "execution_count": 21,
     "metadata": {},
     "output_type": "execute_result"
    }
   ],
   "source": [
    "processed_df.loc[33127]"
   ]
  },
  {
   "cell_type": "code",
   "execution_count": 18,
   "id": "b98b2208",
   "metadata": {},
   "outputs": [
    {
     "data": {
      "text/plain": [
       "Index([ 33127, 198967, 261251,  55858, 292686,   9259, 191846, 222007,  37614,\n",
       "       238044,\n",
       "       ...\n",
       "       290863, 133059, 147140,  53503, 242204,  41424,  35537, 249971, 188322,\n",
       "       298504],\n",
       "      dtype='int64', name='sample_id', length=75000)"
      ]
     },
     "execution_count": 18,
     "metadata": {},
     "output_type": "execute_result"
    }
   ],
   "source": [
    "processed_df.index"
   ]
  },
  {
   "cell_type": "code",
   "execution_count": 23,
   "id": "f89f6c5a",
   "metadata": {},
   "outputs": [],
   "source": [
    "sample_dict={}\n",
    "for unit in processed_df[\"unit\"].unique():\n",
    "    sample_item=processed_df[processed_df[\"unit\"]==unit]\n",
    "    if sample_item.shape[0]>20:\n",
    "        sample_item=sample_item.sample(30)\n",
    "    else :\n",
    "        sample_item=sample_item.sample(sample_item.shape[0])\n",
    "    \n",
    "    sample_dict.setdefault(unit,[])\n",
    "    for index,row in enumerate(sample_item.index):\n",
    "        items=processed_df.loc[row][\"catalog_content\"].split(\"\\n\")\n",
    "        name=processed_df.loc[row][\"itemName\"]\n",
    "        val=\"\"\n",
    "        for item in items:\n",
    "            dic=item.split(\":\")\n",
    "            if len(dic)>=2:\n",
    "                key=dic[0]\n",
    "                value=dic[1]\n",
    "            \n",
    "                if key.lower().strip()==\"value\":\n",
    "                    val=item\n",
    "\n",
    "\n",
    "        sample_dict[unit].append(name+\",\"+val)\n",
    "        \n"
   ]
  },
  {
   "cell_type": "markdown",
   "id": "a703dc4c",
   "metadata": {},
   "source": [
    "### EXTRACTING UNIT_QTY,PACK_COUNT AND TOTAL_QTY"
   ]
  },
  {
   "cell_type": "code",
   "execution_count": null,
   "id": "fb300bf2",
   "metadata": {},
   "outputs": [],
   "source": [
    "import re\n",
    "\n",
    "def extract_quantities(item_name):\n",
    "    item = item_name.lower()\n",
    "\n",
    "    to_ounce = {\n",
    "        \"gram\": 0.035274,\n",
    "        \"kilogram\": 35.274,\n",
    "        \"milligram\": 0.000035274,\n",
    "        \"pound\": 16,\n",
    "        \"ounce\": 1,\n",
    "        \"liter\": 33.814,\n",
    "        \"milliliter\": 0.033814,\n",
    "        # non-weight/volume units won't convert\n",
    "        \"inch\": None, \"foot\": None, \"square foot\": None, \"count\": None,\n",
    "        \"pack\": None, \"can\": None, \"jar\": None, \"kcups\": None, \"tea bags\": None\n",
    "    }\n",
    "\n",
    " \n",
    "    unit_qty_pattern = (\n",
    "        r'(\\d+(?:\\.\\d+)?)\\s*(?:fl\\s*)?'\n",
    "        r'(gram|grams|g|kilogram|kilograms|kg|kgs|milligram|mg|pound|pounds|lb|lbs|ounce|oz|fl oz|liter|litre|liters|ltr|milliliter|ml|milliliters)\\b'\n",
    "    )\n",
    "\n",
    "    pack_count_pattern = r'(?:pack\\s*of\\s*|x\\s*|per\\s*case|pk[-\\s]*)(\\d+)|(\\d+)\\s*(?:count|ct)\\b'\n",
    "\n",
    "    total_qty_pattern = (\n",
    "        r'(\\d+(?:\\.\\d+)?)\\s*(?:fl\\s*)?'\n",
    "        r'(gram|grams|g|kilogram|kilograms|kg|kgs|milligram|mg|pound|pounds|lb|lbs|ounce|oz|fl oz|liter|litre|liters|ltr|milliliter|ml|milliliters)\\b'\n",
    "        r'\\s*(?:total|each|per\\s*pack)?'\n",
    "    )\n",
    "\n",
    "    result = {'unit_qty': None, 'pack_count': None, 'total_qty': None, 'unit': None}\n",
    "\n",
    "    unit_match = re.search(unit_qty_pattern, item, re.IGNORECASE)\n",
    "    if unit_match:\n",
    "        qty = float(unit_match.group(1))\n",
    "        unit = unit_match.group(2)\n",
    "        result['unit'] = unit\n",
    "        normalized_unit = (\n",
    "            \"kilogram\" if unit.startswith(\"kg\") else\n",
    "            \"gram\" if unit.startswith((\"g\", \"gr\")) and not unit.startswith(\"kg\") else\n",
    "            \"milligram\" if unit.startswith(\"mg\") else\n",
    "            \"pound\" if unit.startswith(\"lb\") else\n",
    "            \"ounce\" if \"oz\" in unit else\n",
    "            \"liter\" if unit.startswith((\"l\", \"litre\")) and not unit.startswith(\"ml\") else\n",
    "            \"milliliter\" if unit.startswith(\"ml\") else\n",
    "            None\n",
    "        )\n",
    "\n",
    "        if normalized_unit in to_ounce and to_ounce[normalized_unit]:\n",
    "            result['unit_qty'] = round(qty * to_ounce[normalized_unit], 4)\n",
    "        else:\n",
    "            result['unit_qty'] = qty\n",
    "\n",
    "    pack_match = re.search(pack_count_pattern, item, re.IGNORECASE)\n",
    "    if pack_match:\n",
    "        pack_val = pack_match.group(1) or pack_match.group(2)\n",
    "        if pack_val:\n",
    "            result['pack_count'] = int(pack_val)\n",
    "\n",
    "    total_match = re.search(total_qty_pattern, item, re.IGNORECASE)\n",
    "    if total_match:\n",
    "        total_qty = float(total_match.group(1))\n",
    "        total_unit = total_match.group(2)\n",
    "        normalized_unit = (\n",
    "            \"kilogram\" if total_unit.startswith(\"kg\") else\n",
    "            \"gram\" if total_unit.startswith((\"g\", \"gr\")) and not total_unit.startswith(\"kg\") else\n",
    "            \"milligram\" if total_unit.startswith(\"mg\") else\n",
    "            \"pound\" if total_unit.startswith(\"lb\") else\n",
    "            \"ounce\" if \"oz\" in total_unit else\n",
    "            \"liter\" if total_unit.startswith((\"l\", \"litre\")) and not total_unit.startswith(\"ml\") else\n",
    "            \"milliliter\" if total_unit.startswith(\"ml\") else\n",
    "            None\n",
    "        )\n",
    "        if normalized_unit in to_ounce and to_ounce[normalized_unit]:\n",
    "            total_qty = round(total_qty * to_ounce[normalized_unit], 4)\n",
    "\n",
    "        if result['unit_qty'] and result['pack_count']:\n",
    "            calc_total = round(result['unit_qty'] * result['pack_count'], 2)\n",
    "            result['total_qty'] = max(total_qty, calc_total)\n",
    "        else:\n",
    "            result['total_qty'] = total_qty\n",
    "\n",
    "    if result['total_qty'] is None and result['unit_qty'] and result['pack_count']:\n",
    "        result['total_qty'] = round(result['unit_qty'] * result['pack_count'], 2)\n",
    "\n",
    "    return result\n"
   ]
  },
  {
   "cell_type": "markdown",
   "id": "c8e9f8a8",
   "metadata": {},
   "source": [
    "## FOR COUNT"
   ]
  },
  {
   "cell_type": "code",
   "execution_count": null,
   "id": "44329df8",
   "metadata": {},
   "outputs": [],
   "source": [
    "import re\n",
    "\n",
    "def extract_quantities_count(item_name):\n",
    "    text = item_name.lower()\n",
    "    \n",
    "    unit_qty_pattern = r'(\\d+(?:\\.\\d+)?)\\s*(?:count|ct|bag|bags|pod|pods|k[-\\s]?cup|kcups|tea\\s*bag|pc|pcs|piece|pieces|inch)'\n",
    "    pack_count_pattern = r'(?:pack\\s*of\\s*|x\\s*|per\\s*case|pk[-\\s]*)(\\d+)|(\\d+)\\s*(?:pack|case|boxes?|count|ct)\\b'\n",
    "    total_qty_pattern = r'(\\d+(?:\\.\\d+)?)\\s*(?:count|ct)(?!\\s*(?:bag|pod|pack|tea))'\n",
    "    \n",
    "    unit_match = re.search(unit_qty_pattern, text, re.I)\n",
    "    pack_match = re.search(pack_count_pattern, text, re.I)\n",
    "    total_match = re.search(total_qty_pattern, text, re.I)\n",
    "    \n",
    "    unit_qty = float(unit_match.group(1)) if unit_match else None\n",
    "    pack_count = None\n",
    "    if pack_match:\n",
    "        pack_count = int(pack_match.group(1) or pack_match.group(2))\n",
    "    total_qty = float(total_match.group(1)) if total_match else None\n",
    "    \n",
    "    if not total_qty and unit_qty and pack_count:\n",
    "        total_qty = unit_qty * pack_count\n",
    "    \n",
    "    return {\n",
    "        'unit_qty': unit_qty,\n",
    "        'pack_count': pack_count,\n",
    "        'total_qty': total_qty\n",
    "    }\n"
   ]
  },
  {
   "cell_type": "markdown",
   "id": "9757b061",
   "metadata": {},
   "source": [
    "# FOR UNKNOWN"
   ]
  },
  {
   "cell_type": "code",
   "execution_count": null,
   "id": "cc099d93",
   "metadata": {},
   "outputs": [],
   "source": [
    "import re\n",
    "\n",
    "UNIT_CONVERSION_TO_OUNCE = {\n",
    "    \"ounce\": 1, \"oz\": 1,\n",
    "    \"pound\": 16, \"lb\": 16, \"lbs\": 16,\n",
    "    \"gram\": 0.035274, \"g\": 0.035274,\n",
    "    \"kilogram\": 35.274, \"kg\": 35.274,\n",
    "    \"milligram\": 0.000035274, \"mg\": 0.000035274,\n",
    "    \"liter\": 33.814, \"litre\": 33.814, \"l\": 33.814,\n",
    "    \"milliliter\": 0.033814, \"ml\": 0.033814,\n",
    "    \"inch\": None, \"inches\": None,\n",
    "    \"foot\": None, \"feet\": None,\n",
    "    \"square foot\": None,\n",
    "    \"count\": None, \"pack\": None, \"can\": None,\n",
    "    \"jar\": None, \"kcups\": None, \"tea bags\": None,\n",
    "}\n",
    "\n",
    "def extract_quantities_unknown(item_name: str):\n",
    "    text = item_name.lower()\n",
    "    result = {'unit_qty': None, 'pack_count': None, 'total_qty': None}\n",
    "\n",
    "    unit_qty_pattern = (\n",
    "        r'(\\d+(?:\\.\\d+)?)\\s*(?:-|x|by)?\\s*'\n",
    "        r'(ounce|oz|pound|lb|lbs|gram|g|kilogram|kg|milligram|mg|liter|litre|l|'\n",
    "        r'milliliter|ml|inch|inches|foot|feet|count|can|jar|pack|kcups|tea\\s*bags)\\b'\n",
    "    )\n",
    "    uq_match = re.search(unit_qty_pattern, text, re.IGNORECASE)\n",
    "    if uq_match:\n",
    "        qty = float(uq_match.group(1))\n",
    "        unit = uq_match.group(2).lower()\n",
    "        factor = UNIT_CONVERSION_TO_OUNCE.get(unit)\n",
    "        result['unit_qty'] = round(qty * factor, 3) if factor else qty\n",
    "\n",
    "    pack_count_pattern = (\n",
    "        r'(?:pack\\s*of\\s*|case\\s*of\\s*|set\\s*of\\s*|x\\s*|/pack\\s*|count\\s*|ct\\s*|per\\s*case\\s*|pk\\s*)(\\d+)'\n",
    "    )\n",
    "    pc_match = re.search(pack_count_pattern, text, re.IGNORECASE)\n",
    "    if pc_match:\n",
    "        result['pack_count'] = int(pc_match.group(1))\n",
    "\n",
    "    total_qty_pattern = (\n",
    "        r'(\\d+(?:\\.\\d+)?)\\s*(?:ounce|oz|pound|lb|lbs|gram|g|kilogram|kg|milligram|mg|liter|litre|l|milliliter|ml)'\n",
    "        r'\\s*(?:total|each|combined|per\\s*pack)?'\n",
    "    )\n",
    "    tq_match = re.search(total_qty_pattern, text, re.IGNORECASE)\n",
    "    if tq_match:\n",
    "        qty = float(tq_match.group(1))\n",
    "        unit_match = re.search(r'(ounce|oz|pound|lb|lbs|gram|g|kilogram|kg|milligram|mg|liter|litre|l|milliliter|ml)', text)\n",
    "        if unit_match:\n",
    "            unit = unit_match.group(1).lower()\n",
    "            factor = UNIT_CONVERSION_TO_OUNCE.get(unit)\n",
    "            result['total_qty'] = round(qty * factor, 3) if factor else qty\n",
    "        else:\n",
    "            result['total_qty'] = qty\n",
    "\n",
    "    if result['total_qty'] is None and result['unit_qty'] and result['pack_count']:\n",
    "        result['total_qty'] = round(result['unit_qty'] * result['pack_count'], 3)\n",
    "\n",
    "    return result\n"
   ]
  },
  {
   "cell_type": "markdown",
   "id": "d0ad3cd7",
   "metadata": {},
   "source": [
    "## FOR POUND"
   ]
  },
  {
   "cell_type": "code",
   "execution_count": null,
   "id": "3a963d1d",
   "metadata": {},
   "outputs": [],
   "source": [
    "import re\n",
    "\n",
    "UNIT_CONVERSION_TO_OUNCE = {\n",
    "    \"ounce\": 1,\n",
    "    \"oz\": 1,\n",
    "    \"pound\": 16,\n",
    "    \"lb\": 16,\n",
    "    \"lbs\": 16,\n",
    "    \"gram\": 0.035274,\n",
    "    \"g\": 0.035274,\n",
    "    \"kilogram\": 35.274,\n",
    "    \"kg\": 35.274,\n",
    "    \"milligram\": 0.000035274,\n",
    "    \"mg\": 0.000035274,\n",
    "    \"liter\": 33.814,\n",
    "    \"litre\": 33.814,\n",
    "    \"l\": 33.814,\n",
    "    \"milliliter\": 0.033814,\n",
    "    \"ml\": 0.033814,\n",
    "    \"inch\": None,\n",
    "    \"foot\": None,\n",
    "    \"square foot\": None,\n",
    "    \"count\": None,\n",
    "    \"pack\": None,\n",
    "    \"can\": None,\n",
    "    \"jar\": None,\n",
    "    \"kcups\": None,\n",
    "    \"tea bags\": None,\n",
    "}\n",
    "\n",
    "def extract_quantities_pound(item_name: str):\n",
    "    text = item_name.lower()\n",
    "\n",
    "    unit_qty_pattern = r'(\\d+(?:\\.\\d+)?)\\s*(?:-|to\\s*)?(ounce|oz|pound|lb|lbs|gram|g|kilogram|kg|milligram|mg|liter|litre|l|milliliter|ml)\\b'\n",
    "    pack_count_pattern = r'(?:pack(?:\\s*of)?\\s*|case\\s*of\\s*|x\\s*|count\\s*|ct\\s*)(\\d+)'\n",
    "    total_qty_pattern = r'(\\d+(?:\\.\\d+)?)\\s*(?:ounce|oz|pound|lb|lbs|gram|g|kilogram|kg|milligram|mg|liter|litre|l|milliliter|ml)\\s*(?:total|each|per\\s*pack|combined)?'\n",
    "\n",
    "    result = {'unit_qty': None, 'pack_count': None, 'total_qty': None}\n",
    "\n",
    "    uq_match = re.search(unit_qty_pattern, text, re.IGNORECASE)\n",
    "    if uq_match:\n",
    "        qty = float(uq_match.group(1))\n",
    "        unit = uq_match.group(2).lower()\n",
    "        factor = UNIT_CONVERSION_TO_OUNCE.get(unit)\n",
    "        if factor:\n",
    "            result['unit_qty'] = round(qty * factor, 3)\n",
    "        else:\n",
    "            result['unit_qty'] = qty \n",
    "\n",
    "    pc_match = re.search(pack_count_pattern, text, re.IGNORECASE)\n",
    "    if pc_match:\n",
    "        result['pack_count'] = int(pc_match.group(1))\n",
    "\n",
    "    tq_match = re.search(total_qty_pattern, text, re.IGNORECASE)\n",
    "    if tq_match:\n",
    "        qty = float(tq_match.group(1))\n",
    "        unit = tq_match.group(2).lower() if len(tq_match.groups()) > 1 else None\n",
    "        if unit and unit in UNIT_CONVERSION_TO_OUNCE:\n",
    "            factor = UNIT_CONVERSION_TO_OUNCE.get(unit)\n",
    "            if factor:\n",
    "                result['total_qty'] = round(qty * factor, 3)\n",
    "            else:\n",
    "                result['total_qty'] = qty\n",
    "        else:\n",
    "            result['total_qty'] = qty\n",
    "\n",
    "    if result['total_qty'] is None and result['unit_qty'] and result['pack_count']:\n",
    "        result['total_qty'] = round(result['unit_qty'] * result['pack_count'], 3)\n",
    "\n",
    "    return result\n"
   ]
  },
  {
   "cell_type": "markdown",
   "id": "f7b5d703",
   "metadata": {},
   "source": [
    "\n",
    "\n",
    "## FOR gram"
   ]
  },
  {
   "cell_type": "code",
   "execution_count": null,
   "id": "c07ddbff",
   "metadata": {},
   "outputs": [],
   "source": [
    "import re\n",
    "\n",
    "UNIT_TO_OZ = {\n",
    "    \"gram\": 0.035274, \"g\": 0.035274,\n",
    "    \"kilogram\": 35.274, \"kg\": 35.274,\n",
    "    \"milligram\": 0.000035274, \"mg\": 0.000035274,\n",
    "    \"ounce\": 1, \"oz\": 1,\n",
    "    \"pound\": 16, \"lb\": 16, \"lbs\": 16,\n",
    "    \"liter\": 33.814, \"l\": 33.814, \"litre\": 33.814,\n",
    "    \"milliliter\": 0.033814, \"ml\": 0.033814,\n",
    "    \"inch\": None, \"inches\": None,\n",
    "    \"foot\": None, \"feet\": None,\n",
    "    \"square foot\": None,\n",
    "    \"count\": None, \"pack\": None, \"can\": None,\n",
    "    \"jar\": None, \"kcups\": None, \"tea bags\": None,\n",
    "}\n",
    "\n",
    "def extract_quantities_gram(item_name: str):\n",
    "    text = item_name.lower()\n",
    "    result = {'unit_qty': None, 'pack_count': None, 'total_qty': None}\n",
    "\n",
    "    unit_qty_pattern = (\n",
    "        r'(\\d+(?:\\.\\d+)?)\\s*(?:-|x|by)?\\s*'\n",
    "        r'(gram|g|kilogram|kg|milligram|mg|ounce|oz|pound|lb|lbs|liter|l|litre|milliliter|ml|inch|inches|foot|feet|count|pack|can|jar|kcups|tea\\s*bags)\\b'\n",
    "    )\n",
    "    uq_match = re.search(unit_qty_pattern, text, re.IGNORECASE)\n",
    "    if uq_match:\n",
    "        qty = float(uq_match.group(1))\n",
    "        unit = uq_match.group(2).lower()\n",
    "        factor = UNIT_TO_OZ.get(unit)\n",
    "        result['unit_qty'] = round(qty * factor, 3) if factor else qty\n",
    "\n",
    "    pack_count_pattern = (\n",
    "        r'(?:pack\\s*of\\s*|case\\s*of\\s*|set\\s*of\\s*|\\(|\\b)(\\d+)\\s*(?:pack|count|ct|/pack|per\\s*case|bundle)?\\b'\n",
    "    )\n",
    "    pc_match = re.search(pack_count_pattern, text, re.IGNORECASE)\n",
    "    if pc_match:\n",
    "        result['pack_count'] = int(pc_match.group(1))\n",
    "\n",
    "    total_qty_pattern = r'(\\d+(?:\\.\\d+)?)\\s*(?:gram|g|kilogram|kg|milligram|mg|ounce|oz|pound|lb|lbs|liter|l|litre|milliliter|ml)'\n",
    "    tq_match = re.search(total_qty_pattern, text, re.IGNORECASE)\n",
    "    if tq_match:\n",
    "        qty = float(tq_match.group(1))\n",
    "        unit_match = re.search(r'(gram|g|kilogram|kg|milligram|mg|ounce|oz|pound|lb|lbs|liter|l|litre|milliliter|ml)', text)\n",
    "        if unit_match:\n",
    "            unit = unit_match.group(1).lower()\n",
    "            factor = UNIT_TO_OZ.get(unit)\n",
    "            result['total_qty'] = round(qty * factor, 3) if factor else qty\n",
    "        else:\n",
    "            result['total_qty'] = qty\n",
    "\n",
    "    if result['total_qty'] is None and result['unit_qty'] and result['pack_count']:\n",
    "        result['total_qty'] = round(result['unit_qty'] * result['pack_count'], 3)\n",
    "\n",
    "    return result\n"
   ]
  },
  {
   "cell_type": "code",
   "execution_count": null,
   "id": "cbd3360b",
   "metadata": {},
   "outputs": [],
   "source": []
  },
  {
   "cell_type": "markdown",
   "id": "5a6ee541",
   "metadata": {},
   "source": [
    "## FOR LITER"
   ]
  },
  {
   "cell_type": "code",
   "execution_count": null,
   "id": "5ff2ee65",
   "metadata": {},
   "outputs": [],
   "source": [
    "import re\n",
    "\n",
    "UNIT_TO_OZ = {\n",
    "    \"gram\": 0.035274, \"g\": 0.035274,\n",
    "    \"kilogram\": 35.274, \"kg\": 35.274,\n",
    "    \"milligram\": 0.000035274, \"mg\": 0.000035274,\n",
    "    \"ounce\": 1, \"oz\": 1, \"fl ounce\": 1, \"fl. oz\": 1,\n",
    "    \"pound\": 16, \"lb\": 16, \"lbs\": 16,\n",
    "    \"liter\": 33.814, \"l\": 33.814, \"litre\": 33.814,\n",
    "    \"milliliter\": 0.033814, \"ml\": 0.033814,\n",
    "    \"cl\": 0.33814,  \n",
    "    \"inch\": None, \"inches\": None,\n",
    "    \"foot\": None, \"feet\": None,\n",
    "    \"square foot\": None,\n",
    "    \"count\": None, \"pack\": None, \"can\": None,\n",
    "    \"jar\": None, \"kcups\": None, \"tea bags\": None,\n",
    "}\n",
    "\n",
    "def extract_quantities_liter(item_name: str):\n",
    "    text = item_name.lower()\n",
    "    result = {'unit_qty': None, 'pack_count': None, 'total_qty': None}\n",
    "\n",
    "    unit_qty_pattern = (\n",
    "        r'(\\d+(?:\\.\\d+)?)\\s*(?:-|x|by)?\\s*'\n",
    "        r'(gram|g|kilogram|kg|milligram|mg|ounce|oz|fl ounce|fl\\. oz|pound|lb|lbs|liter|l|litre|milliliter|ml|cl)\\b'\n",
    "    )\n",
    "    uq_match = re.search(unit_qty_pattern, text, re.IGNORECASE)\n",
    "    if uq_match:\n",
    "        qty = float(uq_match.group(1))\n",
    "        unit = uq_match.group(2).lower()\n",
    "        factor = UNIT_TO_OZ.get(unit)\n",
    "        result['unit_qty'] = round(qty * factor, 3) if factor else qty\n",
    "\n",
    "    pack_count_pattern = (\n",
    "        r'(?:pack\\s*of\\s*|case\\s*of\\s*|set\\s*of\\s*|\\(|\\b)(\\d+)\\s*(?:pack|count|ct|/pack|per\\s*case|bundle)?\\b'\n",
    "    )\n",
    "    pc_match = re.search(pack_count_pattern, text, re.IGNORECASE)\n",
    "    if pc_match:\n",
    "        result['pack_count'] = int(pc_match.group(1))\n",
    "\n",
    "    total_qty_pattern = r'(\\d+(?:\\.\\d+)?)\\s*(gram|g|kilogram|kg|milligram|mg|ounce|oz|fl ounce|fl\\. oz|pound|lb|lbs|liter|l|litre|milliliter|ml|cl)'\n",
    "    tq_match = re.search(total_qty_pattern, text, re.IGNORECASE)\n",
    "    if tq_match:\n",
    "        qty = float(tq_match.group(1))\n",
    "        unit = tq_match.group(2).lower()\n",
    "        factor = UNIT_TO_OZ.get(unit)\n",
    "        result['total_qty'] = round(qty * factor, 3) if factor else qty\n",
    "\n",
    "    if result['total_qty'] is None and result['unit_qty'] and result['pack_count']:\n",
    "        result['total_qty'] = round(result['unit_qty'] * result['pack_count'], 3)\n",
    "\n",
    "    return result\n"
   ]
  },
  {
   "cell_type": "markdown",
   "id": "03f066b1",
   "metadata": {},
   "source": [
    "## For milliliter"
   ]
  },
  {
   "cell_type": "code",
   "execution_count": null,
   "id": "3c89424b",
   "metadata": {},
   "outputs": [],
   "source": [
    "import re\n",
    "\n",
    "UNIT_TO_ML = {\n",
    "    \"ml\": 1, \"milliliter\": 1,\n",
    "    \"cl\": 10, \"centiliter\": 10,\n",
    "    \"l\": 1000, \"liter\": 1000, \"litre\": 1000,\n",
    "    \"fl ounce\": 29.5735, \"fl. oz\": 29.5735, \"oz\": 29.5735\n",
    "}\n",
    "\n",
    "def extract_quantities_mili(item_name: str):\n",
    "    text = item_name.lower()\n",
    "    result = {'unit_qty': None, 'pack_count': None, 'total_qty': None}\n",
    "\n",
    "    unit_qty_pattern = (\n",
    "        r'(\\d+(?:\\.\\d+)?)\\s*(?:-|x)?\\s*'\n",
    "        r'(ml|milliliter|cl|centiliter|l|liter|litre|fl ounce|fl\\. oz|oz)\\b'\n",
    "    )\n",
    "    uq_match = re.search(unit_qty_pattern, text, re.IGNORECASE)\n",
    "    if uq_match:\n",
    "        qty = float(uq_match.group(1))\n",
    "        unit = uq_match.group(2).lower()\n",
    "        factor = UNIT_TO_ML.get(unit, 1)\n",
    "        result['unit_qty'] = round(qty * factor, 2)\n",
    "\n",
    "    pack_count_pattern = (\n",
    "        r'(?:pack\\s*of\\s*|case\\s*of\\s*|set\\s*of\\s*|/pack|x\\s*)(\\d+)\\b'\n",
    "    )\n",
    "    pc_match = re.search(pack_count_pattern, text, re.IGNORECASE)\n",
    "    if pc_match:\n",
    "        result['pack_count'] = int(pc_match.group(1))\n",
    "\n",
    "    total_qty_pattern = r'Value:\\s*(\\d+(?:\\.\\d+)?)'\n",
    "    tq_match = re.search(total_qty_pattern, text, re.IGNORECASE)\n",
    "    if tq_match:\n",
    "        result['total_qty'] = float(tq_match.group(1))\n",
    "\n",
    "    if result['total_qty'] is None and result['unit_qty'] and result['pack_count']:\n",
    "        result['total_qty'] = round(result['unit_qty'] * result['pack_count'], 2)\n",
    "\n",
    "    return result\n"
   ]
  },
  {
   "cell_type": "markdown",
   "id": "8c789c02",
   "metadata": {},
   "source": [
    "## FOR jar"
   ]
  },
  {
   "cell_type": "code",
   "execution_count": null,
   "id": "e15bcb6d",
   "metadata": {},
   "outputs": [],
   "source": [
    "import re\n",
    "\n",
    "def extract_quantities_jar(item_name):\n",
    "    unit_qty_pattern = r'(\\d+(?:\\.\\d+)?)\\s*(?:ounce|oz|gram|g|kilogram|kg)?\\s*(?:glass\\s*)?jar'\n",
    "    \n",
    "    pack_count_pattern = r'\\b(?:pack\\s*of|per case)\\s*(\\d+)\\b'\n",
    "    \n",
    "    result = {}\n",
    "    \n",
    "    unit_match = re.search(unit_qty_pattern, item_name, re.I)\n",
    "    unit_qty = float(unit_match.group(1)) if unit_match else None\n",
    "    result['unit_qty'] = unit_qty\n",
    "    \n",
    "    pack_match = re.search(pack_count_pattern, item_name, re.I)\n",
    "    pack_count = int(pack_match.group(1)) if pack_match else None\n",
    "    result['pack_count'] = pack_count\n",
    "    \n",
    "    if unit_qty and pack_count:\n",
    "        result['total_qty'] = round(unit_qty * pack_count, 2)\n",
    "    else:\n",
    "        result['total_qty'] = None\n",
    "    \n",
    "    return result\n"
   ]
  },
  {
   "cell_type": "markdown",
   "id": "2fe8f73f",
   "metadata": {},
   "source": [
    "## FOR pack"
   ]
  },
  {
   "cell_type": "code",
   "execution_count": null,
   "id": "b6aaab54",
   "metadata": {},
   "outputs": [],
   "source": [
    "import re\n",
    "\n",
    "def extract_quantities_pack(item_name):\n",
    "    unit_qty_pattern = r'(\\d+(?:\\.\\d+)?)\\s*(?:ounce|oz|gram|g|kilogram|kg|milliliter|ml|liter|l)?(?:-? ?(?:pack|packages))'\n",
    "    \n",
    "    pack_count_pattern = r'(?:pack\\s*of|case\\s*of|(\\d+)\\s*pack|(\\d+)\\s*count|(\\d+)\\s*per\\s*case)\\s*\\(?(\\d+)?\\)?'\n",
    "    \n",
    "    result = {}\n",
    "    \n",
    "    unit_match = re.search(unit_qty_pattern, item_name, re.I)\n",
    "    unit_qty = float(unit_match.group(1)) if unit_match else None\n",
    "    result['unit_qty'] = unit_qty\n",
    "    \n",
    "    pack_match = re.search(pack_count_pattern, item_name, re.I)\n",
    "    pack_count = None\n",
    "    if pack_match:\n",
    "        for g in pack_match.groups():\n",
    "            if g:\n",
    "                pack_count = int(g)\n",
    "                break\n",
    "    result['pack_count'] = pack_count\n",
    "    \n",
    "    if unit_qty and pack_count:\n",
    "        result['total_qty'] = round(unit_qty * pack_count, 2)\n",
    "    else:\n",
    "        result['total_qty'] = None\n",
    "    \n",
    "    return result\n"
   ]
  },
  {
   "cell_type": "markdown",
   "id": "6b28f992",
   "metadata": {},
   "source": [
    "## FOR can"
   ]
  },
  {
   "cell_type": "code",
   "execution_count": null,
   "id": "190a0f54",
   "metadata": {},
   "outputs": [],
   "source": [
    "import re\n",
    "\n",
    "def extract_quantities_can(item_name):\n",
    "    unit_qty_pattern = r'(\\d+(?:\\.\\d+)?)\\s*(?:ounce|oz|gram|g|kilogram|kg|milliliter|ml|liter|l)?\\s*(?:mini\\s*)?can'\n",
    "    \n",
    "    pack_count_pattern = r'(?:pack\\s*of|case\\s*of|(\\d+)\\s*pack|(\\d+)\\s*count|(\\d+)\\s*per\\s*case)\\s*\\(?(\\d+)?\\)?'\n",
    "    \n",
    "    result = {}\n",
    "    \n",
    "    unit_match = re.search(unit_qty_pattern, item_name, re.I)\n",
    "    unit_qty = float(unit_match.group(1)) if unit_match else None\n",
    "    result['unit_qty'] = unit_qty\n",
    "    \n",
    "    pack_match = re.search(pack_count_pattern, item_name, re.I)\n",
    "    pack_count = None\n",
    "    if pack_match:\n",
    "        for g in pack_match.groups():\n",
    "            if g:\n",
    "                pack_count = int(g)\n",
    "                break\n",
    "    result['pack_count'] = pack_count\n",
    "    \n",
    "    if unit_qty and pack_count:\n",
    "        result['total_qty'] = round(unit_qty * pack_count, 2)\n",
    "    else:\n",
    "        result['total_qty'] = None\n",
    "    \n",
    "    return result\n"
   ]
  },
  {
   "cell_type": "markdown",
   "id": "632f1147",
   "metadata": {},
   "source": [
    "## FoR tea bags"
   ]
  },
  {
   "cell_type": "code",
   "execution_count": null,
   "id": "f6b3eda3",
   "metadata": {},
   "outputs": [],
   "source": [
    "import re\n",
    "\n",
    "def extract_quantities_tea(item_name):\n",
    "    unit_qty_pattern = r'(\\d+(?:\\.\\d+)?)\\s*(?:organic\\s*)?(?:tea\\s*bags?)'\n",
    "    \n",
    "    pack_count_pattern = r'\\(?\\s*(?:pack\\s*of|case\\s*of|(\\d+)\\s*pack|(\\d+)\\s*count)\\s*(\\d+)?\\s*\\)?'\n",
    "    \n",
    "    result = {}\n",
    "    \n",
    "    unit_match = re.search(unit_qty_pattern, item_name, re.I)\n",
    "    unit_qty = float(unit_match.group(1)) if unit_match else None\n",
    "    result['unit_qty'] = unit_qty\n",
    "    \n",
    "    pack_match = re.search(pack_count_pattern, item_name, re.I)\n",
    "    pack_count = None\n",
    "    if pack_match:\n",
    "        for g in pack_match.groups():\n",
    "            if g:\n",
    "                pack_count = int(g)\n",
    "                break\n",
    "    result['pack_count'] = pack_count\n",
    "    \n",
    "    if unit_qty and pack_count:\n",
    "        result['total_qty'] = unit_qty * pack_count\n",
    "    elif unit_qty:\n",
    "        result['total_qty'] = unit_qty\n",
    "    else:\n",
    "        result['total_qty'] = None\n",
    "    \n",
    "    return result\n"
   ]
  },
  {
   "cell_type": "markdown",
   "id": "eb56b322",
   "metadata": {},
   "source": [
    "## For kilogram"
   ]
  },
  {
   "cell_type": "code",
   "execution_count": null,
   "id": "d5056a30",
   "metadata": {},
   "outputs": [],
   "source": [
    "import re\n",
    "\n",
    "def extract_quantities_killo(item_name):\n",
    "    result = {}\n",
    "\n",
    "    nxm_pattern = re.search(r'(\\d+)\\s*x\\s*(\\d+(?:\\.\\d+)?)\\s*(gram|g|kilogram|kg)', item_name, re.I)\n",
    "    if nxm_pattern:\n",
    "        pack_count = int(nxm_pattern.group(1))\n",
    "        unit_qty = float(nxm_pattern.group(2))\n",
    "        unit = nxm_pattern.group(3).lower()\n",
    "    else:\n",
    "        single_pattern = re.search(r'(\\d+(?:\\.\\d+)?)\\s*(gram|g|kilogram|kg)', item_name, re.I)\n",
    "        pack_count = None\n",
    "        if single_pattern:\n",
    "            unit_qty = float(single_pattern.group(1))\n",
    "            unit = single_pattern.group(2).lower()\n",
    "        else:\n",
    "            unit_qty = None\n",
    "            unit = None\n",
    "\n",
    "    if unit_qty is not None:\n",
    "        if unit in ['g', 'gram', 'grams']:\n",
    "            unit_qty = unit_qty / 1000 \n",
    "        elif unit in ['kg', 'kilogram', 'kilograms']:\n",
    "            unit_qty = unit_qty  \n",
    "\n",
    "    result['unit_qty'] = unit_qty\n",
    "    result['pack_count'] = pack_count\n",
    "\n",
    "    if unit_qty is not None and pack_count is not None:\n",
    "        result['total_qty'] = unit_qty * pack_count\n",
    "    elif unit_qty is not None:\n",
    "        result['total_qty'] = unit_qty\n",
    "    else:\n",
    "        result['total_qty'] = None\n",
    "\n",
    "    return result\n"
   ]
  },
  {
   "cell_type": "markdown",
   "id": "17593595",
   "metadata": {},
   "source": [
    "## FOR inch"
   ]
  },
  {
   "cell_type": "code",
   "execution_count": null,
   "id": "96b6f716",
   "metadata": {},
   "outputs": [],
   "source": [
    "import re\n",
    "\n",
    "def extract_quantities_inch(item_name):\n",
    "    result = {}\n",
    "\n",
    "    nxm_pattern = re.search(r'(\\d+)\\s*x\\s*(\\d+(?:\\.\\d+)?)\\s*(inch|in|\")', item_name, re.I)\n",
    "    if nxm_pattern:\n",
    "        pack_count = int(nxm_pattern.group(1))\n",
    "        unit_qty = float(nxm_pattern.group(2))\n",
    "    else:\n",
    "        single_pattern = re.search(r'(\\d+(?:\\.\\d+)?)\\s*(inch|in|\")', item_name, re.I)\n",
    "        pack_count = None\n",
    "        unit_qty = float(single_pattern.group(1)) if single_pattern else None\n",
    "\n",
    "    pack_count_pattern = re.search(r'(?:pack\\s*of\\s*|case\\s*of\\s*|(\\d+)\\s*count)', item_name, re.I)\n",
    "    if pack_count_pattern:\n",
    "        if pack_count_pattern.group(1):\n",
    "            pack_count = int(pack_count_pattern.group(1))\n",
    "        else:\n",
    "            pack_count_text = re.search(r'(?:pack\\s*of\\s*|case\\s*of\\s*)(\\d+)', item_name, re.I)\n",
    "            if pack_count_text:\n",
    "                pack_count = int(pack_count_text.group(1))\n",
    "\n",
    "    result['unit_qty'] = unit_qty\n",
    "    result['pack_count'] = pack_count\n",
    "\n",
    "    if unit_qty is not None and pack_count is not None:\n",
    "        result['total_qty'] = unit_qty * pack_count\n",
    "    else:\n",
    "        result['total_qty'] = unit_qty\n",
    "\n",
    "    return result\n"
   ]
  },
  {
   "cell_type": "markdown",
   "id": "c2622646",
   "metadata": {},
   "source": [
    "## For square foot"
   ]
  },
  {
   "cell_type": "code",
   "execution_count": null,
   "id": "510af72f",
   "metadata": {},
   "outputs": [],
   "source": [
    "import re\n",
    "\n",
    "def extract_quantities_square(item_name):\n",
    "    result = {}\n",
    "\n",
    "    unit_qty_match = re.search(r'(\\d+(?:\\.\\d+)?)\\s*(?:square foot|sq ft|sf)', item_name, re.I)\n",
    "    unit_qty = float(unit_qty_match.group(1)) if unit_qty_match else None\n",
    "\n",
    "    pack_count_match = re.search(r'(?:pack\\s*of\\s*|case\\s*of\\s*|(\\d+)\\s*count)', item_name, re.I)\n",
    "    if pack_count_match:\n",
    "        if pack_count_match.group(1):\n",
    "            pack_count = int(pack_count_match.group(1))\n",
    "        else:\n",
    "            pack_count_text = re.search(r'(?:pack\\s*of\\s*|case\\s*of\\s*)(\\d+)', item_name, re.I)\n",
    "            pack_count = int(pack_count_text.group(1)) if pack_count_text else None\n",
    "    else:\n",
    "        pack_count = None\n",
    "\n",
    "    result['unit_qty'] = unit_qty\n",
    "    result['pack_count'] = pack_count\n",
    "\n",
    "    if unit_qty is not None and pack_count is not None:\n",
    "        result['total_qty'] = unit_qty * pack_count\n",
    "    else:\n",
    "        result['total_qty'] = unit_qty\n",
    "\n",
    "    return result\n"
   ]
  },
  {
   "cell_type": "markdown",
   "id": "d0e59a58",
   "metadata": {},
   "source": [
    "## FOR FOOT"
   ]
  },
  {
   "cell_type": "code",
   "execution_count": null,
   "id": "afeeb217",
   "metadata": {},
   "outputs": [],
   "source": [
    "import re\n",
    "\n",
    "def extract_quantities_foot(item_name):\n",
    "    result = {}\n",
    "\n",
    "    unit_qty_match = re.search(r'(\\d+(?:\\.\\d+)?)\\s*(?:inch|in|foot|ft)', item_name, re.I)\n",
    "    unit_qty = float(unit_qty_match.group(1)) if unit_qty_match else None\n",
    "\n",
    "    pack_count_match = re.search(r'(\\d+)\\s*(?:per case|pack of|count)', item_name, re.I)\n",
    "    pack_count = int(pack_count_match.group(1)) if pack_count_match else None\n",
    "\n",
    "    result['unit_qty'] = unit_qty\n",
    "    result['pack_count'] = pack_count\n",
    "\n",
    "    if unit_qty is not None and pack_count is not None:\n",
    "        result['total_qty'] = unit_qty * pack_count\n",
    "    else:\n",
    "        result['total_qty'] = unit_qty\n",
    "\n",
    "    return result\n"
   ]
  },
  {
   "cell_type": "code",
   "execution_count": 39,
   "id": "35a10281",
   "metadata": {},
   "outputs": [
    {
     "data": {
      "text/plain": [
       "15"
      ]
     },
     "execution_count": 39,
     "metadata": {},
     "output_type": "execute_result"
    }
   ],
   "source": [
    "len(sample_dict.keys())"
   ]
  },
  {
   "cell_type": "code",
   "execution_count": 41,
   "id": "871eebdc",
   "metadata": {},
   "outputs": [
    {
     "data": {
      "text/plain": [
       "'mini candy canes (152 individually wrapped sticks) christmas and party candies (red)'"
      ]
     },
     "execution_count": 41,
     "metadata": {},
     "output_type": "execute_result"
    }
   ],
   "source": [
    "processed_df[\"itemName\"][0]"
   ]
  },
  {
   "cell_type": "code",
   "execution_count": 40,
   "id": "b1cb5d9b",
   "metadata": {},
   "outputs": [],
   "source": [
    "sample_id=[]\n",
    "unit_qty=[]\n",
    "pack_count=[]\n",
    "total_qty=[]"
   ]
  },
  {
   "cell_type": "code",
   "execution_count": 41,
   "id": "0624067e",
   "metadata": {},
   "outputs": [],
   "source": [
    "def get_features(df_temp,unit,processed_func):\n",
    "        unit_df=df_temp[df_temp[\"unit\"]==unit]\n",
    "        for row in unit_df.index:\n",
    "                itemname=unit_df.loc[row][\"itemName\"]\n",
    "                \n",
    "                res=processed_func(itemname)\n",
    "                sample_id.append(row)\n",
    "                qty=res.get(\"unit_qty\",0) \n",
    "                count=res.get(\"pack_count\",0)\n",
    "                total=res.get(\"total_qty\",0)\n",
    "\n",
    "                qty=0 if qty==None else qty\n",
    "                count=0 if count==None else count\n",
    "                total=0 if total==None else total\n",
    "\n",
    "                unit_qty.append(qty)\n",
    "                pack_count.append(count)\n",
    "                total_qty.append(total)\n",
    "        print(f\"{unit} Processed, Length for units total {unit_df.shape[0]},sample_id : {len(sample_id)},unit_qty,{len(unit_qty)},pack_count:{len(pack_count)},total_qty:{len(pack_count)}\")\n"
   ]
  },
  {
   "cell_type": "code",
   "execution_count": 42,
   "id": "0c8d9229",
   "metadata": {},
   "outputs": [],
   "source": [
    "units=list(processed_df[\"unit\"].unique())"
   ]
  },
  {
   "cell_type": "code",
   "execution_count": 47,
   "id": "66dd3100",
   "metadata": {},
   "outputs": [
    {
     "data": {
      "text/plain": [
       "['ounce',\n",
       " 'count',\n",
       " 'unknown',\n",
       " 'pound',\n",
       " 'gram',\n",
       " 'liter',\n",
       " 'milliliter',\n",
       " 'jar',\n",
       " 'pack',\n",
       " 'can',\n",
       " 'tea bags',\n",
       " 'kilogram',\n",
       " 'inch',\n",
       " 'square foot',\n",
       " 'foot']"
      ]
     },
     "execution_count": 47,
     "metadata": {},
     "output_type": "execute_result"
    }
   ],
   "source": [
    "units"
   ]
  },
  {
   "cell_type": "code",
   "execution_count": 50,
   "id": "868b9826",
   "metadata": {},
   "outputs": [],
   "source": [
    "funcs=[extract_quantities,extract_quantities_count,extract_quantities_unknown,extract_quantities_pound,extract_quantities_gram,extract_quantities_liter,extract_quantities_mili,extract_quantities_jar,extract_quantities_pack,extract_quantities_can,extract_quantities_tea,extract_quantities_killo,extract_quantities_inch,extract_quantities_square,extract_quantities_foot]"
   ]
  },
  {
   "cell_type": "code",
   "execution_count": 51,
   "id": "5ad319e9",
   "metadata": {},
   "outputs": [
    {
     "data": {
      "text/plain": [
       "15"
      ]
     },
     "execution_count": 51,
     "metadata": {},
     "output_type": "execute_result"
    }
   ],
   "source": [
    "len(funcs)"
   ]
  },
  {
   "cell_type": "code",
   "execution_count": 52,
   "id": "81e91a10",
   "metadata": {},
   "outputs": [
    {
     "name": "stdout",
     "output_type": "stream",
     "text": [
      "ounce Processed, Length for units total 55367,sample_id : 55367,unit_qty,55367,pack_count:55367,total_qty:55367\n",
      "count Processed, Length for units total 18289,sample_id : 73656,unit_qty,73656,pack_count:73656,total_qty:73656\n",
      "unknown Processed, Length for units total 950,sample_id : 74606,unit_qty,74606,pack_count:74606,total_qty:74606\n",
      "pound Processed, Length for units total 240,sample_id : 74846,unit_qty,74846,pack_count:74846,total_qty:74846\n",
      "gram Processed, Length for units total 53,sample_id : 74899,unit_qty,74899,pack_count:74899,total_qty:74899\n",
      "liter Processed, Length for units total 12,sample_id : 74911,unit_qty,74911,pack_count:74911,total_qty:74911\n",
      "milliliter Processed, Length for units total 12,sample_id : 74923,unit_qty,74923,pack_count:74923,total_qty:74923\n",
      "jar Processed, Length for units total 4,sample_id : 74927,unit_qty,74927,pack_count:74927,total_qty:74927\n",
      "pack Processed, Length for units total 54,sample_id : 74981,unit_qty,74981,pack_count:74981,total_qty:74981\n",
      "can Processed, Length for units total 6,sample_id : 74987,unit_qty,74987,pack_count:74987,total_qty:74987\n",
      "tea bags Processed, Length for units total 2,sample_id : 74989,unit_qty,74989,pack_count:74989,total_qty:74989\n",
      "kilogram Processed, Length for units total 6,sample_id : 74995,unit_qty,74995,pack_count:74995,total_qty:74995\n",
      "inch Processed, Length for units total 1,sample_id : 74996,unit_qty,74996,pack_count:74996,total_qty:74996\n",
      "square foot Processed, Length for units total 2,sample_id : 74998,unit_qty,74998,pack_count:74998,total_qty:74998\n",
      "foot Processed, Length for units total 2,sample_id : 75000,unit_qty,75000,pack_count:75000,total_qty:75000\n"
     ]
    }
   ],
   "source": [
    "for i in range(15):\n",
    "    get_features(processed_df,units[i],funcs[i])"
   ]
  },
  {
   "cell_type": "code",
   "execution_count": 53,
   "id": "4d22628b",
   "metadata": {},
   "outputs": [],
   "source": [
    "featuer_df=pd.DataFrame({\"sample_id\":sample_id,\"unit_qty\":unit_qty,\"pack_count\":pack_count,\"total_qty\":total_qty})"
   ]
  },
  {
   "cell_type": "code",
   "execution_count": null,
   "id": "b6fa6b5f",
   "metadata": {},
   "outputs": [],
   "source": []
  },
  {
   "cell_type": "code",
   "execution_count": 54,
   "id": "5bf5282f",
   "metadata": {},
   "outputs": [],
   "source": [
    "processed_numeric_df=processed_df.reset_index().merge(right=featuer_df,how=\"inner\")"
   ]
  },
  {
   "cell_type": "code",
   "execution_count": 55,
   "id": "afa2a1e8",
   "metadata": {},
   "outputs": [
    {
     "name": "stdout",
     "output_type": "stream",
     "text": [
      "<class 'pandas.core.frame.DataFrame'>\n",
      "RangeIndex: 75000 entries, 0 to 74999\n",
      "Data columns (total 9 columns):\n",
      " #   Column           Non-Null Count  Dtype  \n",
      "---  ------           --------------  -----  \n",
      " 0   sample_id        75000 non-null  int64  \n",
      " 1   catalog_content  75000 non-null  object \n",
      " 2   image_link       75000 non-null  object \n",
      " 3   price            75000 non-null  float64\n",
      " 4   unit             75000 non-null  object \n",
      " 5   itemName         75000 non-null  object \n",
      " 6   unit_qty         75000 non-null  float64\n",
      " 7   pack_count       75000 non-null  int64  \n",
      " 8   total_qty        75000 non-null  float64\n",
      "dtypes: float64(3), int64(2), object(4)\n",
      "memory usage: 5.1+ MB\n"
     ]
    }
   ],
   "source": [
    "processed_numeric_df.info()"
   ]
  },
  {
   "cell_type": "code",
   "execution_count": 104,
   "id": "cd62f7b9",
   "metadata": {},
   "outputs": [
    {
     "name": "stdout",
     "output_type": "stream",
     "text": [
      "Item Name: Salerno Cookies, The Original Butter Cookies, 8 Ounce (Pack of 4)\n",
      "Bullet Point 1: Original Butter Cookies: Classic butter cookies made with real butter\n",
      "Bullet Point 2: Variety Pack: Includes 4 boxes with 32 cookies total\n",
      "Bullet Point 3: Occasion Perfect: Delicious cookies for birthdays, weddings, anniversaries\n",
      "Bullet Point 4: Shareable Treats: Fun to give and enjoy with friends and family\n",
      "Bullet Point 5: Salerno Brand: Trusted brand of delicious butter cookies since 1925\n",
      "Value: 32.0\n",
      "Unit: Ounce\n",
      "\n"
     ]
    }
   ],
   "source": [
    "print(processed_numeric_df[\"catalog_content\"][1])"
   ]
  },
  {
   "cell_type": "code",
   "execution_count": 56,
   "id": "eaa76129",
   "metadata": {},
   "outputs": [],
   "source": [
    "def extract_catalog_features_reduced(text):\n",
    "    lines = text.split(\"\\n\")\n",
    "    \n",
    "    bullet_points = []\n",
    "    product_descriptions = []\n",
    "    \n",
    "    for line in lines:\n",
    "        if \":\" not in line:\n",
    "            continue\n",
    "        key, value = line.split(\":\", 1)\n",
    "        key = key.strip()\n",
    "        value = value.strip()\n",
    "        \n",
    "        if key.lower().startswith(\"bullet point\"):\n",
    "            bullet_points.append(value)\n",
    "        elif key.lower().startswith(\"product description\"):\n",
    "            product_descriptions.append(value)\n",
    "    \n",
    "    features = {\n",
    "        \"num_bullet_points\": len(bullet_points),\n",
    "        \"num_product_desc\": len(product_descriptions),\n",
    "        \"total_chars_bullet_points\": sum(len(bp) for bp in bullet_points),\n",
    "        \"total_chars_product_desc\": sum(len(pd) for pd in product_descriptions),\n",
    "        \"avg_bullet_point_len\": sum(len(bp) for bp in bullet_points)/len(bullet_points) if bullet_points else 0\n",
    "    }\n",
    "    \n",
    "    return features\n",
    "\n",
    "catalog_features_df = processed_numeric_df['catalog_content'].apply(extract_catalog_features_reduced).apply(pd.Series)\n",
    "processed_numeric_df = pd.concat([processed_numeric_df, catalog_features_df], axis=1)\n"
   ]
  },
  {
   "cell_type": "code",
   "execution_count": 57,
   "id": "26f98943",
   "metadata": {},
   "outputs": [
    {
     "name": "stdout",
     "output_type": "stream",
     "text": [
      "<class 'pandas.core.frame.DataFrame'>\n",
      "RangeIndex: 75000 entries, 0 to 74999\n",
      "Data columns (total 14 columns):\n",
      " #   Column                     Non-Null Count  Dtype  \n",
      "---  ------                     --------------  -----  \n",
      " 0   sample_id                  75000 non-null  int64  \n",
      " 1   catalog_content            75000 non-null  object \n",
      " 2   image_link                 75000 non-null  object \n",
      " 3   price                      75000 non-null  float64\n",
      " 4   unit                       75000 non-null  object \n",
      " 5   itemName                   75000 non-null  object \n",
      " 6   unit_qty                   75000 non-null  float64\n",
      " 7   pack_count                 75000 non-null  int64  \n",
      " 8   total_qty                  75000 non-null  float64\n",
      " 9   num_bullet_points          75000 non-null  float64\n",
      " 10  num_product_desc           75000 non-null  float64\n",
      " 11  total_chars_bullet_points  75000 non-null  float64\n",
      " 12  total_chars_product_desc   75000 non-null  float64\n",
      " 13  avg_bullet_point_len       75000 non-null  float64\n",
      "dtypes: float64(8), int64(2), object(4)\n",
      "memory usage: 8.0+ MB\n"
     ]
    }
   ],
   "source": [
    "processed_numeric_df.info()"
   ]
  },
  {
   "cell_type": "code",
   "execution_count": 58,
   "id": "4ba595cf",
   "metadata": {},
   "outputs": [],
   "source": [
    "mostly_final=processed_numeric_df[[\"sample_id\",\"catalog_content\",\"unit\",\"unit_qty\",\"pack_count\",\"total_qty\",\"num_bullet_points\",\"num_product_desc\",\"total_chars_bullet_points\",\"total_chars_product_desc\",\"avg_bullet_point_len\",\"price\"]]"
   ]
  },
  {
   "cell_type": "code",
   "execution_count": 59,
   "id": "e23df819",
   "metadata": {},
   "outputs": [],
   "source": [
    "brands=pd.read_csv(\"sample_id_brand_name.csv\")"
   ]
  },
  {
   "cell_type": "code",
   "execution_count": 60,
   "id": "18e20e8c",
   "metadata": {},
   "outputs": [
    {
     "data": {
      "text/html": [
       "<div>\n",
       "<style scoped>\n",
       "    .dataframe tbody tr th:only-of-type {\n",
       "        vertical-align: middle;\n",
       "    }\n",
       "\n",
       "    .dataframe tbody tr th {\n",
       "        vertical-align: top;\n",
       "    }\n",
       "\n",
       "    .dataframe thead th {\n",
       "        text-align: right;\n",
       "    }\n",
       "</style>\n",
       "<table border=\"1\" class=\"dataframe\">\n",
       "  <thead>\n",
       "    <tr style=\"text-align: right;\">\n",
       "      <th></th>\n",
       "      <th>sample_id</th>\n",
       "      <th>brand_name</th>\n",
       "    </tr>\n",
       "  </thead>\n",
       "  <tbody>\n",
       "    <tr>\n",
       "      <th>0</th>\n",
       "      <td>33127</td>\n",
       "      <td>La Victoria Green</td>\n",
       "    </tr>\n",
       "    <tr>\n",
       "      <th>1</th>\n",
       "      <td>198967</td>\n",
       "      <td>Salerno Cookies</td>\n",
       "    </tr>\n",
       "    <tr>\n",
       "      <th>2</th>\n",
       "      <td>261251</td>\n",
       "      <td>Bear Creek Hearty</td>\n",
       "    </tr>\n",
       "    <tr>\n",
       "      <th>3</th>\n",
       "      <td>55858</td>\n",
       "      <td>Judee</td>\n",
       "    </tr>\n",
       "    <tr>\n",
       "      <th>4</th>\n",
       "      <td>292686</td>\n",
       "      <td>Kedem Sherry Cooking</td>\n",
       "    </tr>\n",
       "    <tr>\n",
       "      <th>...</th>\n",
       "      <td>...</td>\n",
       "      <td>...</td>\n",
       "    </tr>\n",
       "    <tr>\n",
       "      <th>74995</th>\n",
       "      <td>41424</td>\n",
       "      <td>Ice Breakers Spearmint</td>\n",
       "    </tr>\n",
       "    <tr>\n",
       "      <th>74996</th>\n",
       "      <td>35537</td>\n",
       "      <td>Davidson'S Organics</td>\n",
       "    </tr>\n",
       "    <tr>\n",
       "      <th>74997</th>\n",
       "      <td>249971</td>\n",
       "      <td>Jolly Rancher Hard</td>\n",
       "    </tr>\n",
       "    <tr>\n",
       "      <th>74998</th>\n",
       "      <td>188322</td>\n",
       "      <td>Nescafe Dolce Gusto</td>\n",
       "    </tr>\n",
       "    <tr>\n",
       "      <th>74999</th>\n",
       "      <td>298504</td>\n",
       "      <td>Pimenton De La</td>\n",
       "    </tr>\n",
       "  </tbody>\n",
       "</table>\n",
       "<p>75000 rows × 2 columns</p>\n",
       "</div>"
      ],
      "text/plain": [
       "       sample_id              brand_name\n",
       "0          33127       La Victoria Green\n",
       "1         198967         Salerno Cookies\n",
       "2         261251       Bear Creek Hearty\n",
       "3          55858                   Judee\n",
       "4         292686    Kedem Sherry Cooking\n",
       "...          ...                     ...\n",
       "74995      41424  Ice Breakers Spearmint\n",
       "74996      35537     Davidson'S Organics\n",
       "74997     249971      Jolly Rancher Hard\n",
       "74998     188322     Nescafe Dolce Gusto\n",
       "74999     298504          Pimenton De La\n",
       "\n",
       "[75000 rows x 2 columns]"
      ]
     },
     "execution_count": 60,
     "metadata": {},
     "output_type": "execute_result"
    }
   ],
   "source": [
    "brands"
   ]
  },
  {
   "cell_type": "code",
   "execution_count": 61,
   "id": "b633faf6",
   "metadata": {},
   "outputs": [],
   "source": [
    "final=mostly_final.merge(brands,how=\"inner\",on=\"sample_id\")"
   ]
  },
  {
   "cell_type": "code",
   "execution_count": 63,
   "id": "73faf9d5",
   "metadata": {},
   "outputs": [
    {
     "name": "stdout",
     "output_type": "stream",
     "text": [
      "<class 'pandas.core.frame.DataFrame'>\n",
      "RangeIndex: 75000 entries, 0 to 74999\n",
      "Data columns (total 13 columns):\n",
      " #   Column                     Non-Null Count  Dtype  \n",
      "---  ------                     --------------  -----  \n",
      " 0   sample_id                  75000 non-null  int64  \n",
      " 1   catalog_content            75000 non-null  object \n",
      " 2   unit                       75000 non-null  object \n",
      " 3   unit_qty                   75000 non-null  float64\n",
      " 4   pack_count                 75000 non-null  int64  \n",
      " 5   total_qty                  75000 non-null  float64\n",
      " 6   num_bullet_points          75000 non-null  float64\n",
      " 7   num_product_desc           75000 non-null  float64\n",
      " 8   total_chars_bullet_points  75000 non-null  float64\n",
      " 9   total_chars_product_desc   75000 non-null  float64\n",
      " 10  avg_bullet_point_len       75000 non-null  float64\n",
      " 11  price                      75000 non-null  float64\n",
      " 12  brand_name                 74646 non-null  object \n",
      "dtypes: float64(8), int64(2), object(3)\n",
      "memory usage: 7.4+ MB\n"
     ]
    }
   ],
   "source": [
    "final.info()"
   ]
  },
  {
   "cell_type": "code",
   "execution_count": 65,
   "id": "24eddb33",
   "metadata": {},
   "outputs": [],
   "source": [
    "category=pd.read_csv(\"sample_id_category.csv\")"
   ]
  },
  {
   "cell_type": "code",
   "execution_count": 67,
   "id": "846922eb",
   "metadata": {},
   "outputs": [
    {
     "name": "stdout",
     "output_type": "stream",
     "text": [
      "<class 'pandas.core.frame.DataFrame'>\n",
      "RangeIndex: 75000 entries, 0 to 74999\n",
      "Data columns (total 2 columns):\n",
      " #   Column     Non-Null Count  Dtype \n",
      "---  ------     --------------  ----- \n",
      " 0   sample_id  75000 non-null  int64 \n",
      " 1   category   75000 non-null  object\n",
      "dtypes: int64(1), object(1)\n",
      "memory usage: 1.1+ MB\n"
     ]
    }
   ],
   "source": [
    "category.info()"
   ]
  },
  {
   "cell_type": "code",
   "execution_count": 68,
   "id": "15864d2a",
   "metadata": {},
   "outputs": [],
   "source": [
    "final=final.merge(category,how=\"inner\",on=\"sample_id\")"
   ]
  },
  {
   "cell_type": "code",
   "execution_count": 69,
   "id": "09a95a14",
   "metadata": {},
   "outputs": [
    {
     "name": "stdout",
     "output_type": "stream",
     "text": [
      "<class 'pandas.core.frame.DataFrame'>\n",
      "RangeIndex: 75000 entries, 0 to 74999\n",
      "Data columns (total 14 columns):\n",
      " #   Column                     Non-Null Count  Dtype  \n",
      "---  ------                     --------------  -----  \n",
      " 0   sample_id                  75000 non-null  int64  \n",
      " 1   catalog_content            75000 non-null  object \n",
      " 2   unit                       75000 non-null  object \n",
      " 3   unit_qty                   75000 non-null  float64\n",
      " 4   pack_count                 75000 non-null  int64  \n",
      " 5   total_qty                  75000 non-null  float64\n",
      " 6   num_bullet_points          75000 non-null  float64\n",
      " 7   num_product_desc           75000 non-null  float64\n",
      " 8   total_chars_bullet_points  75000 non-null  float64\n",
      " 9   total_chars_product_desc   75000 non-null  float64\n",
      " 10  avg_bullet_point_len       75000 non-null  float64\n",
      " 11  price                      75000 non-null  float64\n",
      " 12  brand_name                 74646 non-null  object \n",
      " 13  category                   75000 non-null  object \n",
      "dtypes: float64(8), int64(2), object(4)\n",
      "memory usage: 8.0+ MB\n"
     ]
    }
   ],
   "source": []
  },
  {
   "cell_type": "code",
   "execution_count": 81,
   "id": "279f1ff5",
   "metadata": {},
   "outputs": [
    {
     "name": "stderr",
     "output_type": "stream",
     "text": [
      "C:\\Users\\HP\\AppData\\Local\\Temp\\ipykernel_2204\\1751069448.py:1: FutureWarning: A value is trying to be set on a copy of a DataFrame or Series through chained assignment using an inplace method.\n",
      "The behavior will change in pandas 3.0. This inplace method will never work because the intermediate object on which we are setting values always behaves as a copy.\n",
      "\n",
      "For example, when doing 'df[col].method(value, inplace=True)', try using 'df.method({col: value}, inplace=True)' or df[col] = df[col].method(value) instead, to perform the operation inplace on the original object.\n",
      "\n",
      "\n",
      "  final[\"brand_name\"].fillna(\"unknown\", inplace=True)\n"
     ]
    }
   ],
   "source": [
    "final[\"brand_name\"].fillna(\"unknown\", inplace=True)\n"
   ]
  },
  {
   "cell_type": "code",
   "execution_count": 82,
   "id": "821b6e39",
   "metadata": {},
   "outputs": [
    {
     "data": {
      "text/plain": [
       "sample_id                    0\n",
       "catalog_content              0\n",
       "unit                         0\n",
       "unit_qty                     0\n",
       "pack_count                   0\n",
       "total_qty                    0\n",
       "num_bullet_points            0\n",
       "num_product_desc             0\n",
       "total_chars_bullet_points    0\n",
       "total_chars_product_desc     0\n",
       "avg_bullet_point_len         0\n",
       "price                        0\n",
       "brand_name                   0\n",
       "category                     0\n",
       "dtype: int64"
      ]
     },
     "execution_count": 82,
     "metadata": {},
     "output_type": "execute_result"
    }
   ],
   "source": [
    "final.isnull().sum()"
   ]
  },
  {
   "cell_type": "code",
   "execution_count": 83,
   "id": "cb65dbc4",
   "metadata": {},
   "outputs": [],
   "source": [
    "final.to_csv(\"final_category.csv\",index=False)"
   ]
  },
  {
   "cell_type": "code",
   "execution_count": 123,
   "id": "3aefd445",
   "metadata": {},
   "outputs": [
    {
     "name": "stdout",
     "output_type": "stream",
     "text": [
      "<class 'pandas.core.frame.DataFrame'>\n",
      "RangeIndex: 75000 entries, 0 to 74999\n",
      "Data columns (total 13 columns):\n",
      " #   Column                     Non-Null Count  Dtype  \n",
      "---  ------                     --------------  -----  \n",
      " 0   sample_id                  75000 non-null  int64  \n",
      " 1   catalog_content            75000 non-null  object \n",
      " 2   unit                       75000 non-null  object \n",
      " 3   unit_qty                   75000 non-null  float64\n",
      " 4   pack_count                 75000 non-null  int64  \n",
      " 5   total_qty                  75000 non-null  float64\n",
      " 6   num_bullet_points          75000 non-null  float64\n",
      " 7   num_product_desc           75000 non-null  float64\n",
      " 8   total_chars_bullet_points  75000 non-null  float64\n",
      " 9   total_chars_product_desc   75000 non-null  float64\n",
      " 10  avg_bullet_point_len       75000 non-null  float64\n",
      " 11  price                      75000 non-null  float64\n",
      " 12  brand_name                 74646 non-null  object \n",
      "dtypes: float64(8), int64(2), object(3)\n",
      "memory usage: 7.4+ MB\n"
     ]
    }
   ],
   "source": [
    "final.info()"
   ]
  },
  {
   "cell_type": "code",
   "execution_count": null,
   "id": "80c0c1fa",
   "metadata": {},
   "outputs": [],
   "source": []
  }
 ],
 "metadata": {
  "kernelspec": {
   "display_name": "medibot",
   "language": "python",
   "name": "python3"
  },
  "language_info": {
   "codemirror_mode": {
    "name": "ipython",
    "version": 3
   },
   "file_extension": ".py",
   "mimetype": "text/x-python",
   "name": "python",
   "nbconvert_exporter": "python",
   "pygments_lexer": "ipython3",
   "version": "3.10.16"
  }
 },
 "nbformat": 4,
 "nbformat_minor": 5
}
